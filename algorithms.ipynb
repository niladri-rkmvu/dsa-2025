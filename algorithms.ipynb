{
  "nbformat": 4,
  "nbformat_minor": 0,
  "metadata": {
    "colab": {
      "provenance": [],
      "authorship_tag": "ABX9TyPzA9sQBjp1Dm2FWpUtZucr",
      "include_colab_link": true
    },
    "kernelspec": {
      "name": "python3",
      "display_name": "Python 3"
    },
    "language_info": {
      "name": "python"
    }
  },
  "cells": [
    {
      "cell_type": "markdown",
      "metadata": {
        "id": "view-in-github",
        "colab_type": "text"
      },
      "source": [
        "<a href=\"https://colab.research.google.com/github/niladri-rkmvu/dsa-2025/blob/main/algorithms.ipynb\" target=\"_parent\"><img src=\"https://colab.research.google.com/assets/colab-badge.svg\" alt=\"Open In Colab\"/></a>"
      ]
    },
    {
      "cell_type": "markdown",
      "source": [
        "#O(n)"
      ],
      "metadata": {
        "id": "wV59nvGw0HEr"
      }
    },
    {
      "cell_type": "code",
      "source": [
        "import numpy as np\n",
        "import pandas as pd\n",
        "import matplotlib.pyplot as plt\n",
        "\n",
        "# Step 1: Define larger input range\n",
        "n_values = np.array([1, 10, 100, 1000, 10000])\n",
        "\n",
        "# Step 2: Growth functions\n",
        "def constant(n): return np.ones_like(n)\n",
        "def log_n(n): return np.log2(n)\n",
        "def sqrt_n(n): return np.sqrt(n)\n",
        "def linear(n): return n\n",
        "def n_log_n(n): return n * np.log2(n)\n",
        "def n_square(n): return n ** 2\n",
        "def n_square_log_n(n): return n ** 2 * np.log2(n)\n",
        "def n_cubed(n): return n ** 3\n",
        "def exp_2_n(n): return np.where(n <= 100, 2 ** n, np.inf)\n",
        "def exp_3_n(n): return np.where(n <= 50, 3 ** n, np.inf)\n",
        "def n_pow_n(n): return np.array([ni ** ni if ni <= 10 else np.inf for ni in n])\n",
        "\n",
        "# Step 3: Compute values\n",
        "function_map = {\n",
        "    \"Constant\": constant,\n",
        "    \"Log n\": log_n,\n",
        "    \"√n\": sqrt_n,\n",
        "    \"n\": linear,\n",
        "    \"n log n\": n_log_n,\n",
        "    \"n²\": n_square,\n",
        "    \"n² log n\": n_square_log_n,\n",
        "    \"n³\": n_cubed,\n",
        "    \"2ⁿ\": exp_2_n,\n",
        "    \"3ⁿ\": exp_3_n,\n",
        "    \"nⁿ\": n_pow_n\n",
        "}\n",
        "df = pd.DataFrame({name: f(n_values) for name, f in function_map.items()}, index=n_values)\n",
        "df.index.name = \"n\"\n",
        "\n",
        "# Step 4: Format as 10^k\n",
        "def format_number(x):\n",
        "    if pd.isna(x) or np.isinf(x):\n",
        "        return \"∞\"\n",
        "    if x == 0:\n",
        "        return \"0\"\n",
        "    try:\n",
        "        exponent = int(np.floor(np.log10(abs(x))))\n",
        "        base = round(x / (10 ** exponent), 2)\n",
        "        return f\"{base}×10^{exponent}\"\n",
        "    except:\n",
        "        return \"?\"\n",
        "\n",
        "formatted_df = df.map(format_number)\n",
        "\n",
        "# Step 5: Print styled table with borders\n",
        "try:\n",
        "    from IPython.display import display, HTML\n",
        "    styled = formatted_df.style.set_table_attributes(\"border=1 cellpadding=5 cellspacing=0\").set_table_styles([\n",
        "        {'selector': 'th', 'props': [('border', '1px solid black')]},\n",
        "        {'selector': 'td', 'props': [('border', '1px solid black')]}\n",
        "    ])\n",
        "    display(HTML(\"<h3>Function Growth Table</h3>\"))\n",
        "    display(styled)\n",
        "except:\n",
        "    print(\"\\nFunction Growth Table:\\n\")\n",
        "    print(formatted_df.to_string())\n",
        "\n",
        "# Step 6: Plotting helper\n",
        "def plot_group(group_funcs, title, filename):\n",
        "    fig, ax = plt.subplots(figsize=(10, 5))\n",
        "    for label, func in group_funcs.items():\n",
        "        y = func(n_values)\n",
        "        ax.plot(n_values, y, marker='o')\n",
        "        valid = ~np.isinf(y)\n",
        "        if np.any(valid):\n",
        "            x_end = n_values[valid][-1]\n",
        "            y_end = y[valid][-1]\n",
        "            if np.isfinite(x_end) and np.isfinite(y_end):\n",
        "                ax.text(x_end * 1.15, y_end, label, fontsize=8, ha='left', va='center', clip_on=False)\n",
        "    ax.set_xscale('log')\n",
        "    ax.set_yscale('log')\n",
        "    ax.set_xlabel(\"n (log scale)\")\n",
        "    ax.set_ylabel(\"Function Value (log scale)\")\n",
        "    ax.set_title(title)\n",
        "    ax.grid(True, which=\"both\", ls=\"--\", linewidth=0.5)\n",
        "    plt.subplots_adjust(right=0.82)\n",
        "    plt.savefig(filename)\n",
        "    print(f\"Saved: {filename}\")\n",
        "    plt.close()\n",
        "\n",
        "# Step 7: Group plots\n",
        "group1 = {\n",
        "    \"Constant\": constant,\n",
        "    \"Log n\": log_n,\n",
        "    \"√n\": sqrt_n,\n",
        "    \"n\": linear,\n",
        "    \"n log n\": n_log_n,\n",
        "    \"n²\": n_square,\n",
        "    \"n² log n\": n_square_log_n\n",
        "}\n",
        "plot_group(group1, \"Group 1: Logarithmic to Polynomial Growth\", \"group1_plot.png\")\n",
        "\n",
        "group2 = {\n",
        "    \"n² log n\": n_square_log_n,\n",
        "    \"n³\": n_cubed,\n",
        "    \"2ⁿ\": exp_2_n,\n",
        "    \"3ⁿ\": exp_3_n\n",
        "}\n",
        "plot_group(group2, \"Group 2: Polynomial to Exponential Growth\", \"group2_plot.png\")"
      ],
      "metadata": {
        "id": "5FcbmsSz0JhK",
        "outputId": "a17978f8-450c-4c73-d62b-de00773e1434",
        "colab": {
          "base_uri": "https://localhost:8080/",
          "height": 319
        }
      },
      "execution_count": 17,
      "outputs": [
        {
          "output_type": "display_data",
          "data": {
            "text/plain": [
              "<IPython.core.display.HTML object>"
            ],
            "text/html": [
              "<h3>Function Growth Table</h3>"
            ]
          },
          "metadata": {}
        },
        {
          "output_type": "display_data",
          "data": {
            "text/plain": [
              "<pandas.io.formats.style.Styler at 0x7dd7090d0c50>"
            ],
            "text/html": [
              "<style type=\"text/css\">\n",
              "#T_1d656 th {\n",
              "  border: 1px solid black;\n",
              "}\n",
              "#T_1d656 td {\n",
              "  border: 1px solid black;\n",
              "}\n",
              "</style>\n",
              "<table id=\"T_1d656\" class=\"dataframe\">\n",
              "  <thead>\n",
              "    <tr>\n",
              "      <th class=\"blank level0\" >&nbsp;</th>\n",
              "      <th id=\"T_1d656_level0_col0\" class=\"col_heading level0 col0\" >Constant</th>\n",
              "      <th id=\"T_1d656_level0_col1\" class=\"col_heading level0 col1\" >Log n</th>\n",
              "      <th id=\"T_1d656_level0_col2\" class=\"col_heading level0 col2\" >√n</th>\n",
              "      <th id=\"T_1d656_level0_col3\" class=\"col_heading level0 col3\" >n</th>\n",
              "      <th id=\"T_1d656_level0_col4\" class=\"col_heading level0 col4\" >n log n</th>\n",
              "      <th id=\"T_1d656_level0_col5\" class=\"col_heading level0 col5\" >n²</th>\n",
              "      <th id=\"T_1d656_level0_col6\" class=\"col_heading level0 col6\" >n² log n</th>\n",
              "      <th id=\"T_1d656_level0_col7\" class=\"col_heading level0 col7\" >n³</th>\n",
              "      <th id=\"T_1d656_level0_col8\" class=\"col_heading level0 col8\" >2ⁿ</th>\n",
              "      <th id=\"T_1d656_level0_col9\" class=\"col_heading level0 col9\" >3ⁿ</th>\n",
              "      <th id=\"T_1d656_level0_col10\" class=\"col_heading level0 col10\" >nⁿ</th>\n",
              "    </tr>\n",
              "    <tr>\n",
              "      <th class=\"index_name level0\" >n</th>\n",
              "      <th class=\"blank col0\" >&nbsp;</th>\n",
              "      <th class=\"blank col1\" >&nbsp;</th>\n",
              "      <th class=\"blank col2\" >&nbsp;</th>\n",
              "      <th class=\"blank col3\" >&nbsp;</th>\n",
              "      <th class=\"blank col4\" >&nbsp;</th>\n",
              "      <th class=\"blank col5\" >&nbsp;</th>\n",
              "      <th class=\"blank col6\" >&nbsp;</th>\n",
              "      <th class=\"blank col7\" >&nbsp;</th>\n",
              "      <th class=\"blank col8\" >&nbsp;</th>\n",
              "      <th class=\"blank col9\" >&nbsp;</th>\n",
              "      <th class=\"blank col10\" >&nbsp;</th>\n",
              "    </tr>\n",
              "  </thead>\n",
              "  <tbody>\n",
              "    <tr>\n",
              "      <th id=\"T_1d656_level0_row0\" class=\"row_heading level0 row0\" >1</th>\n",
              "      <td id=\"T_1d656_row0_col0\" class=\"data row0 col0\" >1.0×10^0</td>\n",
              "      <td id=\"T_1d656_row0_col1\" class=\"data row0 col1\" >0</td>\n",
              "      <td id=\"T_1d656_row0_col2\" class=\"data row0 col2\" >1.0×10^0</td>\n",
              "      <td id=\"T_1d656_row0_col3\" class=\"data row0 col3\" >1.0×10^0</td>\n",
              "      <td id=\"T_1d656_row0_col4\" class=\"data row0 col4\" >0</td>\n",
              "      <td id=\"T_1d656_row0_col5\" class=\"data row0 col5\" >1.0×10^0</td>\n",
              "      <td id=\"T_1d656_row0_col6\" class=\"data row0 col6\" >0</td>\n",
              "      <td id=\"T_1d656_row0_col7\" class=\"data row0 col7\" >1.0×10^0</td>\n",
              "      <td id=\"T_1d656_row0_col8\" class=\"data row0 col8\" >2.0×10^0</td>\n",
              "      <td id=\"T_1d656_row0_col9\" class=\"data row0 col9\" >3.0×10^0</td>\n",
              "      <td id=\"T_1d656_row0_col10\" class=\"data row0 col10\" >1.0×10^0</td>\n",
              "    </tr>\n",
              "    <tr>\n",
              "      <th id=\"T_1d656_level0_row1\" class=\"row_heading level0 row1\" >10</th>\n",
              "      <td id=\"T_1d656_row1_col0\" class=\"data row1 col0\" >1.0×10^0</td>\n",
              "      <td id=\"T_1d656_row1_col1\" class=\"data row1 col1\" >3.32×10^0</td>\n",
              "      <td id=\"T_1d656_row1_col2\" class=\"data row1 col2\" >3.16×10^0</td>\n",
              "      <td id=\"T_1d656_row1_col3\" class=\"data row1 col3\" >1.0×10^1</td>\n",
              "      <td id=\"T_1d656_row1_col4\" class=\"data row1 col4\" >3.32×10^1</td>\n",
              "      <td id=\"T_1d656_row1_col5\" class=\"data row1 col5\" >1.0×10^2</td>\n",
              "      <td id=\"T_1d656_row1_col6\" class=\"data row1 col6\" >3.32×10^2</td>\n",
              "      <td id=\"T_1d656_row1_col7\" class=\"data row1 col7\" >1.0×10^3</td>\n",
              "      <td id=\"T_1d656_row1_col8\" class=\"data row1 col8\" >1.02×10^3</td>\n",
              "      <td id=\"T_1d656_row1_col9\" class=\"data row1 col9\" >5.9×10^4</td>\n",
              "      <td id=\"T_1d656_row1_col10\" class=\"data row1 col10\" >1.0×10^10</td>\n",
              "    </tr>\n",
              "    <tr>\n",
              "      <th id=\"T_1d656_level0_row2\" class=\"row_heading level0 row2\" >100</th>\n",
              "      <td id=\"T_1d656_row2_col0\" class=\"data row2 col0\" >1.0×10^0</td>\n",
              "      <td id=\"T_1d656_row2_col1\" class=\"data row2 col1\" >6.64×10^0</td>\n",
              "      <td id=\"T_1d656_row2_col2\" class=\"data row2 col2\" >1.0×10^1</td>\n",
              "      <td id=\"T_1d656_row2_col3\" class=\"data row2 col3\" >1.0×10^2</td>\n",
              "      <td id=\"T_1d656_row2_col4\" class=\"data row2 col4\" >6.64×10^2</td>\n",
              "      <td id=\"T_1d656_row2_col5\" class=\"data row2 col5\" >1.0×10^4</td>\n",
              "      <td id=\"T_1d656_row2_col6\" class=\"data row2 col6\" >6.64×10^4</td>\n",
              "      <td id=\"T_1d656_row2_col7\" class=\"data row2 col7\" >1.0×10^6</td>\n",
              "      <td id=\"T_1d656_row2_col8\" class=\"data row2 col8\" >0</td>\n",
              "      <td id=\"T_1d656_row2_col9\" class=\"data row2 col9\" >∞</td>\n",
              "      <td id=\"T_1d656_row2_col10\" class=\"data row2 col10\" >∞</td>\n",
              "    </tr>\n",
              "    <tr>\n",
              "      <th id=\"T_1d656_level0_row3\" class=\"row_heading level0 row3\" >1000</th>\n",
              "      <td id=\"T_1d656_row3_col0\" class=\"data row3 col0\" >1.0×10^0</td>\n",
              "      <td id=\"T_1d656_row3_col1\" class=\"data row3 col1\" >9.97×10^0</td>\n",
              "      <td id=\"T_1d656_row3_col2\" class=\"data row3 col2\" >3.16×10^1</td>\n",
              "      <td id=\"T_1d656_row3_col3\" class=\"data row3 col3\" >1.0×10^3</td>\n",
              "      <td id=\"T_1d656_row3_col4\" class=\"data row3 col4\" >9.97×10^3</td>\n",
              "      <td id=\"T_1d656_row3_col5\" class=\"data row3 col5\" >1.0×10^6</td>\n",
              "      <td id=\"T_1d656_row3_col6\" class=\"data row3 col6\" >9.97×10^6</td>\n",
              "      <td id=\"T_1d656_row3_col7\" class=\"data row3 col7\" >1.0×10^9</td>\n",
              "      <td id=\"T_1d656_row3_col8\" class=\"data row3 col8\" >∞</td>\n",
              "      <td id=\"T_1d656_row3_col9\" class=\"data row3 col9\" >∞</td>\n",
              "      <td id=\"T_1d656_row3_col10\" class=\"data row3 col10\" >∞</td>\n",
              "    </tr>\n",
              "    <tr>\n",
              "      <th id=\"T_1d656_level0_row4\" class=\"row_heading level0 row4\" >10000</th>\n",
              "      <td id=\"T_1d656_row4_col0\" class=\"data row4 col0\" >1.0×10^0</td>\n",
              "      <td id=\"T_1d656_row4_col1\" class=\"data row4 col1\" >1.33×10^1</td>\n",
              "      <td id=\"T_1d656_row4_col2\" class=\"data row4 col2\" >1.0×10^2</td>\n",
              "      <td id=\"T_1d656_row4_col3\" class=\"data row4 col3\" >1.0×10^4</td>\n",
              "      <td id=\"T_1d656_row4_col4\" class=\"data row4 col4\" >1.33×10^5</td>\n",
              "      <td id=\"T_1d656_row4_col5\" class=\"data row4 col5\" >1.0×10^8</td>\n",
              "      <td id=\"T_1d656_row4_col6\" class=\"data row4 col6\" >1.33×10^9</td>\n",
              "      <td id=\"T_1d656_row4_col7\" class=\"data row4 col7\" >1.0×10^12</td>\n",
              "      <td id=\"T_1d656_row4_col8\" class=\"data row4 col8\" >∞</td>\n",
              "      <td id=\"T_1d656_row4_col9\" class=\"data row4 col9\" >∞</td>\n",
              "      <td id=\"T_1d656_row4_col10\" class=\"data row4 col10\" >∞</td>\n",
              "    </tr>\n",
              "  </tbody>\n",
              "</table>\n"
            ]
          },
          "metadata": {}
        },
        {
          "output_type": "stream",
          "name": "stdout",
          "text": [
            "Saved: group1_plot.png\n",
            "Saved: group2_plot.png\n"
          ]
        }
      ]
    },
    {
      "cell_type": "markdown",
      "source": [
        "#1.Linear Search"
      ],
      "metadata": {
        "id": "v7hsBDvEpKeo"
      }
    },
    {
      "cell_type": "code",
      "execution_count": null,
      "metadata": {
        "colab": {
          "base_uri": "https://localhost:8080/"
        },
        "id": "NxoAbrLAo55O",
        "outputId": "f2f00b45-4cd2-4a34-b112-ad61cabe54b6"
      },
      "outputs": [
        {
          "output_type": "stream",
          "name": "stdout",
          "text": [
            "Element 9 found at index 3\n"
          ]
        }
      ],
      "source": [
        "def linear_search(arr, key):\n",
        "    \"\"\"\n",
        "    Performs linear search on the given list.\n",
        "\n",
        "    Parameters:\n",
        "    arr (list): The list to search through.\n",
        "    key (Any): The element to search for.\n",
        "\n",
        "    Returns:\n",
        "    int: The index of key in arr if found, else -1.\n",
        "    \"\"\"\n",
        "    for index, value in enumerate(arr):\n",
        "        if value == key:\n",
        "            return index\n",
        "    return -1\n",
        "\n",
        "# Example usage\n",
        "data = [13, 7, 22, 9, 5, 30]\n",
        "key_value = 9\n",
        "\n",
        "result = linear_search(data, key_value)\n",
        "\n",
        "if result != -1:\n",
        "    print(f\"Element {key_value} found at index {result}\")\n",
        "else:\n",
        "    print(f\"Element {key_value} not found in the list\")"
      ]
    },
    {
      "cell_type": "markdown",
      "source": [
        "#2.Binary Search - Iterative"
      ],
      "metadata": {
        "id": "w1N2MMZDqLUB"
      }
    },
    {
      "cell_type": "code",
      "source": [
        "def binary_search(arr, key):\n",
        "    \"\"\"\n",
        "    Performs binary search on a sorted list.\n",
        "\n",
        "    Parameters:\n",
        "    arr (list): A list sorted in ascending order.\n",
        "    key (Any): The element to search for.\n",
        "\n",
        "    Returns:\n",
        "    int: The index of the key if found, otherwise -1.\n",
        "    \"\"\"\n",
        "    low, high = 0, len(arr) - 1\n",
        "    counter = 0\n",
        "\n",
        "    while low <= high:\n",
        "        mid = (low + high) // 2\n",
        "        counter += 1\n",
        "        # Each field gets 10 characters of space, low-aligned\n",
        "        print(f\"low : {low}, high : {high}, mid : {mid}, compare_count : {counter}\")\n",
        "        if arr[mid] == key:\n",
        "            return mid\n",
        "        elif arr[mid] < key:\n",
        "            low = mid + 1\n",
        "        else:\n",
        "            high = mid - 1\n",
        "    # Each field gets 10 characters of space, low-aligned\n",
        "    # print(\"Before return\")\n",
        "    # print(f\"low : {low}, high : {high}, mid : {mid}\")\n",
        "    return -1\n",
        "\n",
        "# Example usage\n",
        "sorted_data = [3,6,8,12,14,17,25,29,31,36,42,47,53,55,62]\n",
        "key_value = 100\n",
        "\n",
        "result = binary_search(sorted_data, key_value)\n",
        "\n",
        "if result != -1:\n",
        "    print(f\"Element {key_value} found at index {result}\")\n",
        "else:\n",
        "    print(f\"Element {key_value} not found in the list\")"
      ],
      "metadata": {
        "colab": {
          "base_uri": "https://localhost:8080/"
        },
        "id": "gO2N7anGpXno",
        "outputId": "025a7553-8940-4d54-801e-a0cfa2ae3b39"
      },
      "execution_count": null,
      "outputs": [
        {
          "output_type": "stream",
          "name": "stdout",
          "text": [
            "low : 0, high : 14, mid : 7, compare_count : 1\n",
            "low : 8, high : 14, mid : 11, compare_count : 2\n",
            "low : 12, high : 14, mid : 13, compare_count : 3\n",
            "low : 14, high : 14, mid : 14, compare_count : 4\n",
            "Element 100 not found in the list\n"
          ]
        }
      ]
    },
    {
      "cell_type": "code",
      "source": [],
      "metadata": {
        "id": "bjgyxGZ9Mkub",
        "outputId": "7439f57a-d03f-46f1-cf1e-eb843e750c31",
        "colab": {
          "base_uri": "https://localhost:8080/"
        }
      },
      "execution_count": null,
      "outputs": [
        {
          "output_type": "stream",
          "name": "stdout",
          "text": [
            "15\n"
          ]
        }
      ]
    },
    {
      "cell_type": "code",
      "source": [],
      "metadata": {
        "id": "9LW1THuqNZpK"
      },
      "execution_count": null,
      "outputs": []
    }
  ]
}