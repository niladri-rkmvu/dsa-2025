{
  "nbformat": 4,
  "nbformat_minor": 0,
  "metadata": {
    "colab": {
      "provenance": [],
      "authorship_tag": "ABX9TyO1lEUPwd35TaQHZyF9ST6b",
      "include_colab_link": true
    },
    "kernelspec": {
      "name": "python3",
      "display_name": "Python 3"
    },
    "language_info": {
      "name": "python"
    }
  },
  "cells": [
    {
      "cell_type": "markdown",
      "metadata": {
        "id": "view-in-github",
        "colab_type": "text"
      },
      "source": [
        "<a href=\"https://colab.research.google.com/github/niladri-rkmvu/dsa-2025/blob/main/algorithms.ipynb\" target=\"_parent\"><img src=\"https://colab.research.google.com/assets/colab-badge.svg\" alt=\"Open In Colab\"/></a>"
      ]
    },
    {
      "cell_type": "markdown",
      "source": [
        "#1.Linear Search"
      ],
      "metadata": {
        "id": "v7hsBDvEpKeo"
      }
    },
    {
      "cell_type": "code",
      "execution_count": 1,
      "metadata": {
        "colab": {
          "base_uri": "https://localhost:8080/"
        },
        "id": "NxoAbrLAo55O",
        "outputId": "f2f00b45-4cd2-4a34-b112-ad61cabe54b6"
      },
      "outputs": [
        {
          "output_type": "stream",
          "name": "stdout",
          "text": [
            "Element 9 found at index 3\n"
          ]
        }
      ],
      "source": [
        "def linear_search(arr, target):\n",
        "    \"\"\"\n",
        "    Performs linear search on the given list.\n",
        "\n",
        "    Parameters:\n",
        "    arr (list): The list to search through.\n",
        "    target (Any): The element to search for.\n",
        "\n",
        "    Returns:\n",
        "    int: The index of target in arr if found, else -1.\n",
        "    \"\"\"\n",
        "    for index, value in enumerate(arr):\n",
        "        if value == target:\n",
        "            return index\n",
        "    return -1\n",
        "\n",
        "# Example usage\n",
        "data = [13, 7, 22, 9, 5, 30]\n",
        "target_value = 9\n",
        "\n",
        "result = linear_search(data, target_value)\n",
        "\n",
        "if result != -1:\n",
        "    print(f\"Element {target_value} found at index {result}\")\n",
        "else:\n",
        "    print(f\"Element {target_value} not found in the list\")"
      ]
    },
    {
      "cell_type": "markdown",
      "source": [
        "#2.Binary Search - Iterative"
      ],
      "metadata": {
        "id": "w1N2MMZDqLUB"
      }
    },
    {
      "cell_type": "code",
      "source": [
        "def binary_search(arr, target):\n",
        "    \"\"\"\n",
        "    Performs binary search on a sorted list.\n",
        "\n",
        "    Parameters:\n",
        "    arr (list): A list sorted in ascending order.\n",
        "    target (Any): The element to search for.\n",
        "\n",
        "    Returns:\n",
        "    int: The index of the target if found, otherwise -1.\n",
        "    \"\"\"\n",
        "    left, right = 0, len(arr) - 1\n",
        "\n",
        "    while left <= right:\n",
        "        mid = (left + right) // 2\n",
        "        if arr[mid] == target:\n",
        "            return mid\n",
        "        elif arr[mid] < target:\n",
        "            left = mid + 1\n",
        "        else:\n",
        "            right = mid - 1\n",
        "\n",
        "    return -1\n",
        "\n",
        "# Example usage\n",
        "sorted_data = [3, 8, 15, 23, 42, 56]\n",
        "target_value = 23\n",
        "\n",
        "result = binary_search(sorted_data, target_value)\n",
        "\n",
        "if result != -1:\n",
        "    print(f\"Element {target_value} found at index {result}\")\n",
        "else:\n",
        "    print(f\"Element {target_value} not found in the list\")"
      ],
      "metadata": {
        "colab": {
          "base_uri": "https://localhost:8080/"
        },
        "id": "gO2N7anGpXno",
        "outputId": "f0aee16c-5301-417d-9104-eed8b22cfcfc"
      },
      "execution_count": 2,
      "outputs": [
        {
          "output_type": "stream",
          "name": "stdout",
          "text": [
            "Element 23 found at index 3\n"
          ]
        }
      ]
    },
    {
      "cell_type": "code",
      "source": [],
      "metadata": {
        "id": "5lBUZAjtqPDN"
      },
      "execution_count": null,
      "outputs": []
    }
  ]
}